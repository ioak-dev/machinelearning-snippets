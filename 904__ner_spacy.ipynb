{
 "cells": [
  {
   "cell_type": "code",
   "execution_count": 1,
   "metadata": {},
   "outputs": [],
   "source": [
    "import spacy\n",
    "from spacy import displacy\n",
    "from collections import Counter\n",
    "import en_core_web_sm, de_core_news_sm\n",
    "from pprint import pprint"
   ]
  },
  {
   "cell_type": "code",
   "execution_count": 2,
   "metadata": {},
   "outputs": [],
   "source": [
    "\n",
    "nlp_en = en_core_web_sm.load()\n",
    "nlp_de = de_core_news_sm.load()"
   ]
  },
  {
   "cell_type": "code",
   "execution_count": 12,
   "metadata": {},
   "outputs": [],
   "source": [
    "ex=\"European authorities fined Google a record $5.1 billion on Wednesday for abusing its power in the mobile phone market and ordered the company to alter its practices\"\n",
    "ex=\"Liebe Arun,  wir starten das Umstellungsprojekt bei im Apple, folgende Meldung haben wir vom Notariat erhalten:  Es wäre gut, wenn sich – idealerweise schon vorher – Ihre Techniker von  mal bei Frau <NAME> melden würden, da seit einiger Zeit die Arbeit an Westernacher wegen eines technischen Problems (mit dem Server/Netzwerk?) nicht mehr möglich ist.  bitte einmal drum kümmern.\"\n",
    "ex2 = \"Angebot an Herrn Marquardt WV für Arun ist erstellt. Angebot in der Dateiablage abgelegt.\""
   ]
  },
  {
   "cell_type": "code",
   "execution_count": 13,
   "metadata": {},
   "outputs": [
    {
     "name": "stdout",
     "output_type": "stream",
     "text": [
      "[('Liebe Arun', 'ORG'),\n",
      " ('Apple', 'ORG'),\n",
      " ('folgende Meldung', 'PERSON'),\n",
      " ('wir', 'ORG'),\n",
      " ('Notariat', 'ORG'),\n",
      " ('Es', 'PERSON'),\n",
      " ('mal bei Frau', 'ORG'),\n",
      " ('NAME', 'ORG'),\n",
      " ('melden würden', 'PERSON'),\n",
      " ('da seit einiger', 'PERSON'),\n",
      " ('Arbeit', 'GPE'),\n",
      " ('nicht mehr möglich', 'PERSON'),\n",
      " ('drum kümmern', 'PERSON')]\n"
     ]
    }
   ],
   "source": [
    "doc=nlp_en(ex)\n",
    "pprint([(X.text, X.label_) for X in doc.ents])"
   ]
  },
  {
   "cell_type": "code",
   "execution_count": 14,
   "metadata": {},
   "outputs": [
    {
     "name": "stdout",
     "output_type": "stream",
     "text": [
      "[('Liebe Arun', 'MISC'), ('Apple', 'ORG')]\n"
     ]
    }
   ],
   "source": [
    "doc=nlp_de(ex)\n",
    "pprint([(X.text, X.label_) for X in doc.ents])"
   ]
  },
  {
   "cell_type": "code",
   "execution_count": null,
   "metadata": {},
   "outputs": [],
   "source": []
  },
  {
   "cell_type": "code",
   "execution_count": null,
   "metadata": {},
   "outputs": [],
   "source": []
  },
  {
   "cell_type": "code",
   "execution_count": null,
   "metadata": {},
   "outputs": [],
   "source": []
  }
 ],
 "metadata": {
  "kernelspec": {
   "display_name": "Python 3",
   "language": "python",
   "name": "python3"
  },
  "language_info": {
   "codemirror_mode": {
    "name": "ipython",
    "version": 3
   },
   "file_extension": ".py",
   "mimetype": "text/x-python",
   "name": "python",
   "nbconvert_exporter": "python",
   "pygments_lexer": "ipython3",
   "version": "3.7.7"
  }
 },
 "nbformat": 4,
 "nbformat_minor": 4
}
