{
 "cells": [
  {
   "cell_type": "code",
   "execution_count": 1,
   "metadata": {},
   "outputs": [],
   "source": [
    "import pandas as pd\n",
    "import numpy as np\n",
    "import matplotlib.pyplot as plt\n",
    "from sklearn import metrics\n",
    "from sklearn.model_selection import train_test_split\n",
    "from sklearn.linear_model import LogisticRegression\n",
    "from sklearn.feature_extraction.text import CountVectorizer,TfidfVectorizer"
   ]
  },
  {
   "cell_type": "code",
   "execution_count": 4,
   "metadata": {},
   "outputs": [],
   "source": [
    "df = pd.read_csv('data/blurb/blurb_top.csv',delimiter=',',encoding='latin-1')\n",
    "label_map = {}\n",
    "index = 0\n",
    "for label_item in df.label:\n",
    "    try:\n",
    "        label_map[label_item]\n",
    "    except KeyError:\n",
    "        label_map[label_item] = index\n",
    "        index = index + 1\n",
    "df.replace(label_map, inplace=True)"
   ]
  },
  {
   "cell_type": "code",
   "execution_count": 3,
   "metadata": {},
   "outputs": [
    {
     "data": {
      "text/plain": [
       "<Figure size 576x432 with 0 Axes>"
      ]
     },
     "metadata": {},
     "output_type": "display_data"
    },
    {
     "data": {
      "image/png": "[encoded data removed]",
      "text/plain": [
       "<Figure size 432x288 with 1 Axes>"
      ]
     },
     "metadata": {
      "needs_background": "light"
     },
     "output_type": "display_data"
    }
   ],
   "source": [
    "fig = plt.figure(figsize=(8,6))\n",
    "df.groupby('label').count().plot.bar(ylim=0)\n",
    "plt.show()"
   ]
  },
  {
   "cell_type": "code",
   "execution_count": 4,
   "metadata": {},
   "outputs": [],
   "source": [
    "df.text=df.text.fillna(' ')\n",
    "X_train, X_test, y_train, y_test = train_test_split(df.text, df.label, train_size=0.8, stratify=df.label)"
   ]
  },
  {
   "cell_type": "code",
   "execution_count": 5,
   "metadata": {},
   "outputs": [],
   "source": [
    "tfidf = TfidfVectorizer(sublinear_tf=True, min_df=5, norm='l2', encoding='latin-1', ngram_range=(1, 2), stop_words='english')\n",
    "tdidf_vectorizer = tfidf.fit(X_train)"
   ]
  },
  {
   "cell_type": "code",
   "execution_count": 6,
   "metadata": {},
   "outputs": [],
   "source": [
    "X_train=tdidf_vectorizer.transform(X_train)\n",
    "X_test=tdidf_vectorizer.transform(X_test)"
   ]
  },
  {
   "cell_type": "code",
   "execution_count": 7,
   "metadata": {},
   "outputs": [
    {
     "name": "stderr",
     "output_type": "stream",
     "text": [
      "c:\\users\\arun\\envs\\local\\lib\\site-packages\\sklearn\\linear_model\\logistic.py:947: ConvergenceWarning: lbfgs failed to converge. Increase the number of iterations.\n",
      "  \"of iterations.\", ConvergenceWarning)\n"
     ]
    },
    {
     "data": {
      "text/plain": [
       "LogisticRegression(C=1.0, class_weight=None, dual=False, fit_intercept=True,\n",
       "                   intercept_scaling=1, l1_ratio=None, max_iter=100,\n",
       "                   multi_class='multinomial', n_jobs=None, penalty='l2',\n",
       "                   random_state=None, solver='lbfgs', tol=0.0001, verbose=0,\n",
       "                   warm_start=False)"
      ]
     },
     "execution_count": 7,
     "metadata": {},
     "output_type": "execute_result"
    }
   ],
   "source": [
    "classifier = LogisticRegression(solver = 'lbfgs', multi_class = 'multinomial')\n",
    "classifier.fit(X_train, y_train)"
   ]
  },
  {
   "cell_type": "code",
   "execution_count": 8,
   "metadata": {},
   "outputs": [
    {
     "name": "stdout",
     "output_type": "stream",
     "text": [
      "Misclassified samples: 1984\n",
      "Accuracy: 0.76\n"
     ]
    }
   ],
   "source": [
    "y_pred = classifier.predict(X_test)\n",
    "count_misclassified = (y_test != y_pred).sum()\n",
    "print('Misclassified samples: {}'.format(count_misclassified))\n",
    "accuracy = metrics.accuracy_score(y_test, y_pred)\n",
    "print('Accuracy: {:.2f}'.format(accuracy))"
   ]
  },
  {
   "cell_type": "code",
   "execution_count": 16,
   "metadata": {},
   "outputs": [
    {
     "data": {
      "text/plain": [
       "array([[0.06742467, 0.02156139, 0.02524558, 0.02044928, 0.03947095,\n",
       "        0.03548648, 0.02960323, 0.05090403, 0.02770071, 0.03234281,\n",
       "        0.01401391, 0.01614761, 0.05922463, 0.04441854, 0.01182937,\n",
       "        0.03431344, 0.0149678 , 0.41748753, 0.03740804]])"
      ]
     },
     "execution_count": 16,
     "metadata": {},
     "output_type": "execute_result"
    }
   ],
   "source": [
    "pred_in=tdidf_vectorizer.transform([\"What gardeners want most is a bigger and better return on their investment of time and moneyâ€”maximum yields and superior flavor for edibles, long-lasting blooms for flowers. Derek Fell's Grow This! features expert advice for choosing and growing the top-performing plants (and avoiding the ones that disappoint). Derek Fell has grown hundreds of varieties and annually visits gardens and test plots across America, so he's qualified to guide gardeners to the best of the bestâ€”more than 600 vegetable, flower, herb, and lawn grass all-stars. He offers honest feedback about plant performance, even when it contradicts favorable public opinion or a grower's claims. Seed racks may be filled with â€˜Kentucky Wonder' snap beans, but he dismisses that variety as too fibrous and needy and instead recommends â€˜Blue Lake' beans for tenderness and high yields. Fell's firsthand experience means the difference between choosing plant winners and losers. Packed with insider evaluations from seedsmen, growers, and nursery retailers that readers won't find elsewhere, Derek Fell's Grow This! explains industry lingo and debunks marketing hype to help gardeners select the best-performing plants for all garden conditions and goals.\"])\n",
    "classifier.predict_proba(pred_in)"
   ]
  },
  {
   "cell_type": "code",
   "execution_count": 10,
   "metadata": {},
   "outputs": [
    {
     "data": {
      "text/plain": [
       "{\"Children's Middle Grade Books\": 0,\n",
       " 'Literary Fiction': 1,\n",
       " 'Mystery and Suspense': 2,\n",
       " 'Romance': 3,\n",
       " 'Biography and Memoir': 4,\n",
       " 'Religion and Philosophy': 5,\n",
       " 'Graphic Novels and Manga': 6,\n",
       " 'Cooking': 7,\n",
       " 'Politics': 8,\n",
       " 'Arts and Entertainment': 9,\n",
       " 'Fantasy': 10,\n",
       " 'Teen and Young Adult Fiction': 11,\n",
       " 'Self-Improvement': 12,\n",
       " 'Health and Fitness': 13,\n",
       " 'History': 14,\n",
       " 'Popular Science': 15,\n",
       " 'Science Fiction': 16,\n",
       " 'Crafts, Home and Garden': 17,\n",
       " 'Reference': 18}"
      ]
     },
     "execution_count": 10,
     "metadata": {},
     "output_type": "execute_result"
    }
   ],
   "source": [
    "label_map"
   ]
  },
  {
   "cell_type": "code",
   "execution_count": null,
   "metadata": {},
   "outputs": [],
   "source": []
  }
 ],
 "metadata": {
  "kernelspec": {
   "display_name": "Python 3",
   "language": "python",
   "name": "python3"
  },
  "language_info": {
   "codemirror_mode": {
    "name": "ipython",
    "version": 3
   },
   "file_extension": ".py",
   "mimetype": "text/x-python",
   "name": "python",
   "nbconvert_exporter": "python",
   "pygments_lexer": "ipython3",
   "version": "3.7.0"
  }
 },
 "nbformat": 4,
 "nbformat_minor": 2
}
