{
 "cells": [
  {
   "cell_type": "code",
   "execution_count": 1,
   "metadata": {},
   "outputs": [],
   "source": [
    "import pandas as pd\n",
    "import numpy as np\n",
    "import matplotlib.pyplot as plt\n",
    "from sklearn import metrics\n",
    "from sklearn.model_selection import train_test_split\n",
    "from sklearn.linear_model import LogisticRegression\n",
    "from sklearn.naive_bayes import GaussianNB, MultinomialNB\n",
    "from sklearn.svm import LinearSVC\n",
    "from sklearn.ensemble import RandomForestClassifier\n",
    "from sklearn.feature_extraction.text import CountVectorizer,TfidfVectorizer\n",
    "import nltk, csv"
   ]
  },
  {
   "cell_type": "code",
   "execution_count": 2,
   "metadata": {},
   "outputs": [],
   "source": [
    "vectorizer_type = 'count'\n",
    "num_words = 20000\n",
    "# lr | gnb | mnb | lsvc | rf\n",
    "ml_model = 'lr'\n",
    "n = 1"
   ]
  },
  {
   "cell_type": "code",
   "execution_count": 3,
   "metadata": {},
   "outputs": [],
   "source": [
    "df = pd.read_csv('data/blurb/blurb_top.csv',delimiter=',',encoding='utf-8')\n",
    "label_map = {}\n",
    "index = 0\n",
    "for label_item in df.label:\n",
    "    try:\n",
    "        label_map[label_item]\n",
    "    except KeyError:\n",
    "        label_map[label_item] = index\n",
    "        index = index + 1\n",
    "df.replace(label_map, inplace=True)"
   ]
  },
  {
   "cell_type": "code",
   "execution_count": 4,
   "metadata": {},
   "outputs": [
    {
     "data": {
      "text/plain": [
       "<Figure size 576x432 with 0 Axes>"
      ]
     },
     "metadata": {},
     "output_type": "display_data"
    },
    {
     "data": {
      "image/png": "[encoded data removed]",
      "text/plain": [
       "<Figure size 432x288 with 1 Axes>"
      ]
     },
     "metadata": {
      "needs_background": "light"
     },
     "output_type": "display_data"
    }
   ],
   "source": [
    "fig = plt.figure(figsize=(8,6))\n",
    "df.groupby('label').count().plot.bar(ylim=0)\n",
    "plt.show()"
   ]
  },
  {
   "cell_type": "code",
   "execution_count": 5,
   "metadata": {},
   "outputs": [],
   "source": [
    "df.text=df.text.fillna(' ')\n",
    "X_train, X_test, y_train, y_test = train_test_split(df.text, df.label, train_size=0.8, stratify=df.label)"
   ]
  },
  {
   "cell_type": "code",
   "execution_count": 6,
   "metadata": {},
   "outputs": [
    {
     "name": "stdout",
     "output_type": "stream",
     "text": [
      "(41719, 2) 19\n"
     ]
    }
   ],
   "source": [
    "print(df.shape, len(label_map))"
   ]
  },
  {
   "cell_type": "code",
   "execution_count": 7,
   "metadata": {},
   "outputs": [],
   "source": [
    "if vectorizer_type == 'count':\n",
    "    vectorizer = CountVectorizer(stop_words=None, max_df=.1, max_features=num_words)\n",
    "elif vectorizer_type == 'tfidf':\n",
    "    vectorizer=TfidfVectorizer(sublinear_tf=True, min_df=5, norm='l2', ngram_range=(1, 2), stop_words='english', use_idf=True, max_df=.1, max_features=num_words)\n",
    "vectorizer = vectorizer.fit(X_train)"
   ]
  },
  {
   "cell_type": "code",
   "execution_count": 8,
   "metadata": {},
   "outputs": [],
   "source": [
    "X_train=vectorizer.transform(X_train)\n",
    "X_test=vectorizer.transform(X_test)"
   ]
  },
  {
   "cell_type": "code",
   "execution_count": 9,
   "metadata": {},
   "outputs": [
    {
     "name": "stdout",
     "output_type": "stream",
     "text": [
      "logistic regression\n"
     ]
    }
   ],
   "source": [
    "if ml_model == 'lr':\n",
    "    # Logistic regression model\n",
    "    print('logistic regression')\n",
    "    classifier = LogisticRegression(solver = 'lbfgs', multi_class = 'multinomial', max_iter=200)\n",
    "    classifier.fit(X_train, y_train)\n",
    "    y_pred = classifier.predict(X_test)\n",
    "    y_pred_proba = classifier.predict_proba(X_test)\n",
    "elif ml_model == 'gnb':\n",
    "    # Gaussian Naive Bayes Model\n",
    "    print('gaussian naive bayes')\n",
    "    classifier = GaussianNB()\n",
    "    classifier.fit(X_train.todense(), y_train)\n",
    "    y_pred = classifier.predict(X_test.todense())\n",
    "    y_pred_proba = classifier.predict_proba(X_test.todense())\n",
    "elif ml_model == 'mnb':\n",
    "    print('multinomial naive bayes')\n",
    "    classifier = MultinomialNB(alpha=1.0, fit_prior=True, class_prior=None)\n",
    "    classifier.fit(X_train, y_train)\n",
    "    y_pred = classifier.predict(X_test)\n",
    "    y_pred_proba = classifier.predict_proba(X_test)\n",
    "elif ml_model == 'lsvc':\n",
    "    print('linear support vector machine')\n",
    "    classifier = LinearSVC(random_state=0, tol=1e-05, probability=True)\n",
    "    classifier.fit(X_train, y_train)\n",
    "    y_pred = classifier.predict(X_test)\n",
    "elif ml_model == 'rf':\n",
    "    print('random forest classifier')\n",
    "    classifier = RandomForestClassifier(max_depth=20, random_state=0, n_estimators=100)\n",
    "    classifier.fit(X_train, y_train)\n",
    "    y_pred = classifier.predict(X_test)\n",
    "    y_pred_proba = classifier.predict_proba(X_test)"
   ]
  },
  {
   "cell_type": "code",
   "execution_count": 10,
   "metadata": {},
   "outputs": [
    {
     "name": "stdout",
     "output_type": "stream",
     "text": [
      "Misclassified samples: 2225\n",
      "Accuracy: 0.73\n"
     ]
    }
   ],
   "source": [
    "count_misclassified = (y_test != y_pred).sum()\n",
    "print('Misclassified samples: {}'.format(count_misclassified))\n",
    "accuracy = metrics.accuracy_score(y_test, y_pred)\n",
    "print('Accuracy: {:.2f}'.format(accuracy))"
   ]
  },
  {
   "cell_type": "code",
   "execution_count": 11,
   "metadata": {},
   "outputs": [
    {
     "name": "stdout",
     "output_type": "stream",
     "text": [
      "[1]\n"
     ]
    }
   ],
   "source": [
    "pred_in=vectorizer.transform([\"Sehr geehrte Damen und Herren,     meine für die Urkundenrolle zuständigen Kolleginnen, Frau <NAME> und Frau <NAME>, sprachen mich heute wegen folgender Problematik an:     Frau <NAME> und Frau <NAME> wollten heute Nachmittag das erste Mal seit der Migration die Urkundenrolle als verbindlichen Druck ausdrucken. Während des jeweiligen Druckvorgangs wurden allerdings keine Ausdrucke in Papierform erzeugt, sondern es wurde lediglich angeboten, eine PDF-Datei zu erzeugen. Diese ließ sich nach dem Abspeichern allerdings nicht öffnen.     Wir haben dann den Vorgang abgebrochen und einen Wiederholungsdruck ausgelöst, der ordnungsgemäß - jedoch mit Wasserzeichen „WIEDERHOLUNGSDRUCK“ - ausgedruckt worden ist.     Ich bitte um Überprüfung und Rückmeldung an diesen Verteiler.     Rufen Sie mich gerne an, falls Ihrerseits Rückfragen bestehen.     Wie immer, besten Dank!     \"])\n",
    "if ml_model == 'lr' or ml_model == 'mnb':\n",
    "    classifier.predict_proba(pred_in)\n",
    "    print(classifier.predict(pred_in))\n",
    "elif ml_model == 'gnb' or ml_model == 'rf':\n",
    "    classifier.predict_proba(pred_in.todense())\n",
    "    print(classifier.predict(pred_in.todense()))\n",
    "elif ml_model == 'lsvc':\n",
    "    print(classifier.predict(pred_in))"
   ]
  },
  {
   "cell_type": "code",
   "execution_count": 12,
   "metadata": {},
   "outputs": [],
   "source": [
    "# label_map"
   ]
  },
  {
   "cell_type": "code",
   "execution_count": 13,
   "metadata": {},
   "outputs": [],
   "source": [
    "# y_pred_proba.shape\n",
    "# type(y_pred_proba)\n",
    "# y_pred"
   ]
  },
  {
   "cell_type": "code",
   "execution_count": 14,
   "metadata": {},
   "outputs": [
    {
     "name": "stdout",
     "output_type": "stream",
     "text": [
      "lr count 1\n",
      "Misclassified samples: 2225\n",
      "Accuracy: 0.73\n"
     ]
    }
   ],
   "source": [
    "print(ml_model, vectorizer_type, n)\n",
    "matches = 0\n",
    "for x in range(0, y_pred_proba.shape[0]):\n",
    "    if y_test.iloc[x] in np.argsort(y_pred_proba[x])[::-1][:n]:\n",
    "        matches = matches + 1\n",
    "top_n_accuracy = matches / y_test.shape[0]\n",
    "print('Misclassified samples: {}'.format(y_test.shape[0] - matches))\n",
    "print('Accuracy: {:.2f}'.format(top_n_accuracy))"
   ]
  },
  {
   "cell_type": "code",
   "execution_count": null,
   "metadata": {},
   "outputs": [],
   "source": []
  }
 ],
 "metadata": {
  "kernelspec": {
   "display_name": "Python 3",
   "language": "python",
   "name": "python3"
  },
  "language_info": {
   "codemirror_mode": {
    "name": "ipython",
    "version": 3
   },
   "file_extension": ".py",
   "mimetype": "text/x-python",
   "name": "python",
   "nbconvert_exporter": "python",
   "pygments_lexer": "ipython3",
   "version": "3.7.0"
  }
 },
 "nbformat": 4,
 "nbformat_minor": 2
}
